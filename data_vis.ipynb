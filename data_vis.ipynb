{
 "cells": [
  {
   "cell_type": "code",
   "execution_count": 1,
   "metadata": {},
   "outputs": [],
   "source": [
    "import pickle as pkl"
   ]
  },
  {
   "cell_type": "code",
   "execution_count": 2,
   "metadata": {},
   "outputs": [
    {
     "name": "stderr",
     "output_type": "stream",
     "text": [
      "/home/punygod_admin/miniconda3/envs/playbyear/lib/python3.9/site-packages/tqdm/auto.py:21: TqdmWarning: IProgress not found. Please update jupyter and ipywidgets. See https://ipywidgets.readthedocs.io/en/stable/user_install.html\n",
      "  from .autonotebook import tqdm as notebook_tqdm\n"
     ]
    }
   ],
   "source": [
    "path = \"/home/punygod_admin/SoundSense/PlayItByEar_Code/demos/IndicatorBoxBlock_50/demos.pkl\"\n",
    "data = pkl.load(open(path, \"rb\"))"
   ]
  },
  {
   "cell_type": "code",
   "execution_count": 3,
   "metadata": {},
   "outputs": [
    {
     "data": {
      "text/plain": [
       "<core.replay_buffer_3.ReplayBufferDoubleRewardEpisodes at 0x7fe6fc3df9d0>"
      ]
     },
     "execution_count": 3,
     "metadata": {},
     "output_type": "execute_result"
    }
   ],
   "source": [
    "data"
   ]
  },
  {
   "cell_type": "code",
   "execution_count": null,
   "metadata": {},
   "outputs": [],
   "source": [
    "dir(data)\n",
    "#  'action_shape',  (4,)\n",
    "#  'add',           method\n",
    "#  'allEpisodes',   shape 50\n",
    "#  'device',\n",
    "#  'episodeLength', 250\n",
    "#  'full',\n",
    "#  'idx',\n",
    "#  'image_pad',     4\n",
    "#  'lowdim_shape',  (1, 130)\n",
    "#  'numEpisodes',   50\n",
    "#  'obs_shape',     (9, 84, 84)\n",
    "#  'sampleRollout',\n",
    "#  'set_sample_settings'"
   ]
  },
  {
   "cell_type": "code",
   "execution_count": 10,
   "metadata": {},
   "outputs": [
    {
     "data": {
      "text/plain": [
       "<bound method ReplayBufferDoubleRewardEpisodes.sampleRollout of <core.replay_buffer_3.ReplayBufferDoubleRewardEpisodes object at 0x7fe6fc3df9d0>>"
      ]
     },
     "execution_count": 10,
     "metadata": {},
     "output_type": "execute_result"
    }
   ],
   "source": [
    "data.sampleRollout"
   ]
  },
  {
   "cell_type": "code",
   "execution_count": 11,
   "metadata": {},
   "outputs": [],
   "source": [
    "episode0 = data.allEpisodes[0]"
   ]
  },
  {
   "cell_type": "code",
   "execution_count": null,
   "metadata": {},
   "outputs": [],
   "source": [
    "# dir(episode0)\n",
    "# 'actions',            shape (250, 4)\n",
    "#  'add',               method\n",
    "#  'aug_trans',\n",
    "#  'device',\n",
    "#  'episode_length',    250\n",
    "#  'idx',\n",
    "#  'indexed_rollout',\n",
    "#  'lowdim',            shape (250, 1, 130)\n",
    "#  'next_lowdim',       shape (250, 1, 130)\n",
    "#  'next_obses',        shape (250, 9, 84, 84)\n",
    "#  'not_dones',\n",
    "#  'not_dones_no_max',\n",
    "#  'obses',             shape (250, 9, 84, 84)\n",
    "#  'priorities',        None\n",
    "#  'sample_rollout_episode', method\n",
    "#  'setPriority',\n",
    "#  'shaped_rewards',    shape (250, 1)\n",
    "#  'sparse_rewards'     shape (250, 1)"
   ]
  },
  {
   "cell_type": "code",
   "execution_count": 34,
   "metadata": {},
   "outputs": [
    {
     "data": {
      "text/plain": [
       "<core.replay_buffer_3.SingleEpisode at 0x7f5ebc61adf0>"
      ]
     },
     "execution_count": 34,
     "metadata": {},
     "output_type": "execute_result"
    }
   ],
   "source": [
    "episode0"
   ]
  },
  {
   "cell_type": "code",
   "execution_count": null,
   "metadata": {},
   "outputs": [],
   "source": [
    "# lowdim.shape (130,)\n",
    "#  obs.shape (9, 84, 84)\n",
    "#  action.shape (4,)\n",
    "#  reward.shape 1.0\n",
    "#  next_lowdim.shape (130,)\n",
    "#  next_obs.shape (9, 84, 84)\n",
    "#  done 0.0\n",
    "#  done_no_max 0.0\n",
    "\n",
    "# stacked: false\n",
    "# lowdim.shape (13,)\n",
    "#  obs.shape (3, 84, 84)\n",
    "#  action.shape (4,)\n",
    "#  reward.shape 1.0\n",
    "#  next_lowdim.shape (13,)\n",
    "#  next_obs.shape (3, 84, 84)\n",
    "#  done 0.0\n",
    "#  done_no_max 0.0"
   ]
  },
  {
   "cell_type": "code",
   "execution_count": 18,
   "metadata": {},
   "outputs": [],
   "source": [
    "real_data = pkl.load(open(\"/home/punygod_admin/SoundSense/soundsense/baselines/playbyear/dummy/IndicatorBoxBlock_50/demos.pkl\",\"rb\"))"
   ]
  },
  {
   "cell_type": "code",
   "execution_count": 21,
   "metadata": {},
   "outputs": [
    {
     "data": {
      "text/plain": [
       "(130,)"
      ]
     },
     "execution_count": 21,
     "metadata": {},
     "output_type": "execute_result"
    }
   ],
   "source": [
    "real_data.lowdim_shape"
   ]
  },
  {
   "cell_type": "code",
   "execution_count": 19,
   "metadata": {},
   "outputs": [
    {
     "data": {
      "text/plain": [
       "50"
      ]
     },
     "execution_count": 19,
     "metadata": {},
     "output_type": "execute_result"
    }
   ],
   "source": [
    "# dir(real_data)\n",
    "len(real_data.allEpisodes)"
   ]
  },
  {
   "cell_type": "code",
   "execution_count": 20,
   "metadata": {},
   "outputs": [
    {
     "data": {
      "text/plain": [
       "(250, 130)"
      ]
     },
     "execution_count": 20,
     "metadata": {},
     "output_type": "execute_result"
    }
   ],
   "source": [
    "real_ep0 = real_data.allEpisodes[0]\n",
    "real_ep0.lowdim.shape"
   ]
  },
  {
   "cell_type": "code",
   "execution_count": null,
   "metadata": {},
   "outputs": [],
   "source": []
  }
 ],
 "metadata": {
  "kernelspec": {
   "display_name": "playbyear",
   "language": "python",
   "name": "python3"
  },
  "language_info": {
   "codemirror_mode": {
    "name": "ipython",
    "version": 3
   },
   "file_extension": ".py",
   "mimetype": "text/x-python",
   "name": "python",
   "nbconvert_exporter": "python",
   "pygments_lexer": "ipython3",
   "version": "3.9.18"
  }
 },
 "nbformat": 4,
 "nbformat_minor": 2
}
